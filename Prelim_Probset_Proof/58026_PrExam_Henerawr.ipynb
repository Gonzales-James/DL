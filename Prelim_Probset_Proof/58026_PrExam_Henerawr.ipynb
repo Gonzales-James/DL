{
  "nbformat": 4,
  "nbformat_minor": 0,
  "metadata": {
    "colab": {
      "name": "58026_PrExam_Henerawr.ipynb",
      "provenance": [],
      "collapsed_sections": [],
      "authorship_tag": "ABX9TyPpArqCr74NwwRUPI7wOqcm",
      "include_colab_link": true
    },
    "kernelspec": {
      "name": "python3",
      "display_name": "Python 3"
    },
    "language_info": {
      "name": "python"
    }
  },
  "cells": [
    {
      "cell_type": "markdown",
      "metadata": {
        "id": "view-in-github",
        "colab_type": "text"
      },
      "source": [
        "<a href=\"https://colab.research.google.com/github/Gonzales-James/DL/blob/main/Prelim_Probset_Proof/58026_PrExam_Henerawr.ipynb\" target=\"_parent\"><img src=\"https://colab.research.google.com/assets/colab-badge.svg\" alt=\"Open In Colab\"/></a>"
      ]
    },
    {
      "cell_type": "code",
      "source": [
        "import numpy as np"
      ],
      "metadata": {
        "id": "sL56_ZjHWZ1Y"
      },
      "execution_count": null,
      "outputs": []
    },
    {
      "cell_type": "markdown",
      "source": [
        "# **1**"
      ],
      "metadata": {
        "id": "IwEgM20zU8a2"
      }
    },
    {
      "cell_type": "code",
      "execution_count": null,
      "metadata": {
        "id": "R0gcJo5lUz_k"
      },
      "outputs": [],
      "source": [
        "def perceptron_algo(a, b):\n",
        "    if(a == 0) and (b == 0):\n",
        "        return 1\n",
        "    elif(a == 0) and (b == 1):\n",
        "        return 0\n",
        "    elif(a == 1) and (b == 0):\n",
        "        return 0\n",
        "    elif(a == 1) and (b == 1):\n",
        "        return 0"
      ]
    },
    {
      "cell_type": "code",
      "source": [
        "print(\"  A | B | Result\")\n",
        "print(\"  0 | 0 | A NOR B =\", perceptron_algo(0,0),\" | \")\n",
        "print(\"  0 | 1 | A NOR B =\", perceptron_algo(0,1),\" | \")\n",
        "print(\"  1 | 0 | A NOR B =\", perceptron_algo(1,0),\" | \")\n",
        "print(\"  1 | 1 | A NOR B =\", perceptron_algo(1,1),\" | \")"
      ],
      "metadata": {
        "colab": {
          "base_uri": "https://localhost:8080/"
        },
        "id": "RXKiyQo7h-YX",
        "outputId": "4d4ba939-139d-4271-a938-1432adda7ca9"
      },
      "execution_count": null,
      "outputs": [
        {
          "output_type": "stream",
          "name": "stdout",
          "text": [
            "  A | B | Result\n",
            "  0 | 0 | A NOR B = 1  | \n",
            "  0 | 1 | A NOR B = 0  | \n",
            "  1 | 0 | A NOR B = 0  | \n",
            "  1 | 1 | A NOR B = 0  | \n"
          ]
        }
      ]
    },
    {
      "cell_type": "markdown",
      "source": [
        "In this first requirement, we have created a function named \"perceptron_algo\" and it has two parameters which are a & b. There are 4 conditions inside the function. First, if both a & b are equal to zero, print 1. Second, if a is equal to zero and b is equal to one, print 0. Third, if a is equal to one and b is equal to zero, print 0. Lastly, if both and a & b are equal to one, print 0. This function just illustrates the NOR logic gate by getting the input and returning the desired output. "
      ],
      "metadata": {
        "id": "TUbsPIBWPnyq"
      }
    },
    {
      "cell_type": "markdown",
      "source": [
        "# **2**"
      ],
      "metadata": {
        "id": "eiDiBDC9U_TU"
      }
    },
    {
      "cell_type": "code",
      "source": [
        "# declaration of variables\n",
        "w1 = np.array([[1, -1],\n",
        "               [-1, 1]])\n",
        "w2 = np.array([[1, 2],\n",
        "               [2, 1]])\n",
        "w3 = np.array([-1, 1])\n",
        "x = np.array([1, 0])"
      ],
      "metadata": {
        "id": "KXkbdO2g0QYx"
      },
      "execution_count": null,
      "outputs": []
    },
    {
      "cell_type": "markdown",
      "source": [
        "In the second requirement, the 3 weights were initialized together with the variable \"x\" which is the input. This script is just for initializing the desired inputs/variables."
      ],
      "metadata": {
        "id": "oUkVsmyxQPJ3"
      }
    },
    {
      "cell_type": "markdown",
      "source": [
        "# **3**"
      ],
      "metadata": {
        "id": "KoBFJPEyVBmB"
      }
    },
    {
      "cell_type": "code",
      "source": [
        "def F_propagation(X, w1, w2, w3): \n",
        "  z1 = np.dot(X, w1)\n",
        "  a1 = np.tanh(z1)\n",
        "  z2 = np.dot(a1, w2)\n",
        "  a2 = np.tanh(z2)\n",
        "  z3 = np.dot(a2, w3)\n",
        "  a3 = np.tanh(z3)\n",
        "  return a1, a2, a3"
      ],
      "metadata": {
        "id": "cBI081VWVDCu"
      },
      "execution_count": null,
      "outputs": []
    },
    {
      "cell_type": "code",
      "source": [
        "F_propagation(x, w1, w2, w3)[2]"
      ],
      "metadata": {
        "colab": {
          "base_uri": "https://localhost:8080/"
        },
        "id": "XfM_gJMYZemL",
        "outputId": "e91b1f81-7652-4cd3-a265-db88ac4ecddd"
      },
      "execution_count": null,
      "outputs": [
        {
          "output_type": "execute_result",
          "data": {
            "text/plain": [
              "0.8575549394724464"
            ]
          },
          "metadata": {},
          "execution_count": 98
        }
      ]
    },
    {
      "cell_type": "markdown",
      "source": [
        "In the third requirement, we have created a function named \"F_propagation\" and it has four parameters which are X, w1, w2, and w3, which mainly is the weights and features. \"np.tanh\" is the activation function that was indicated in the problem and that is why it is the function that was used inside the forward propagation. It returns three outputs which are a1, a2, and a3. In the example above, the final layer was only shown. Forward propagation is just the process of moving from the input layer up to the output layer. This neural network has different layers like input layers, several hidden layers wherein you can have different activation function in each, and lastly, the output layer.\n",
        "\n"
      ],
      "metadata": {
        "id": "IDefrd7KQWYc"
      }
    },
    {
      "cell_type": "markdown",
      "source": [
        "# **4**"
      ],
      "metadata": {
        "id": "6MHMkRE7VDN8"
      }
    },
    {
      "cell_type": "code",
      "source": [
        "def B_propagation(x, w1, w2, w3):\n",
        "  y = F_propagation(x, w1, w2, w3)[2]\n",
        "  y1 = np.tanh(y)\n",
        "\n",
        "  d_n = 2.86\n",
        "  o_n = y1\n",
        "  error_signal = d_n - o_n\n",
        "  error_signal\n",
        "\n",
        "  lr = 0.25\n",
        "  dr = (1-y1)*(1+y1)\n",
        "  delta = error_signal * dr\n",
        "  w_1 = w3 - (lr * delta) * F_propagation(x, w1, w2, w3)[2]\n",
        "\n",
        "  dr1 = (1-y)*(1+y)\n",
        "  delta1 = (w2 * dr1) * delta\n",
        "\n",
        "  delt = delta1 - 1\n",
        "\n",
        "  w_2 = w2 - (lr * delta) * delta1\n",
        "\n",
        "  dr2 = (1-F_propagation(x, w1, w2, w3)[1])*(1+F_propagation(x, w1, w2, w3)[1])\n",
        "  delta2 = (w1 * dr2) * delta1\n",
        "\n",
        "  delt1 = delta2 - 1\n",
        "\n",
        "  w_3 = w1 - (lr * delta2) * F_propagation(x, w1, w2, w3)[0]\n",
        "  return w_1, w_2, w_3"
      ],
      "metadata": {
        "id": "7FgX4mJC0KY5"
      },
      "execution_count": null,
      "outputs": []
    },
    {
      "cell_type": "code",
      "source": [
        "B_propagation(x, w1, w2, w3)[2]"
      ],
      "metadata": {
        "colab": {
          "base_uri": "https://localhost:8080/"
        },
        "id": "EilpXN-AcmSH",
        "outputId": "6faa3a38-5929-44f9-ba00-91acb40d54a0"
      },
      "execution_count": null,
      "outputs": [
        {
          "output_type": "execute_result",
          "data": {
            "text/plain": [
              "array([[ 0.96685425, -1.0662915 ],\n",
              "       [-0.9337085 ,  1.03314575]])"
            ]
          },
          "metadata": {},
          "execution_count": 100
        }
      ]
    },
    {
      "cell_type": "markdown",
      "source": [
        "In the fourth requirement, we have created a function named \"B_propagation\" and it has four parameters which are x, w1, w2, and w3. The function that performs forward propagation is also utilized in this function. Inside this function, we firstly initialized the output of the final layer from the forward propagation function. After it was initialized, it was then used to compute for the error signal which the formula is given from the problem set, and also the learning rate is initialized to 0.25. To compute the weights for each layer, initialized weights are subtracted by the product of learning rate and the delta, then it was multiplied by the output of each layer of forward propagation.  The process was repeated until the last weights were computed. Backpropagation is the process of moving from the output to the input layer, this outputs weights that will be used to calculate the error to know if the results are already optimized or not."
      ],
      "metadata": {
        "id": "baDvi8b-Qw3e"
      }
    },
    {
      "cell_type": "markdown",
      "source": [
        "# **5**"
      ],
      "metadata": {
        "id": "u8MptmkhVEzS"
      }
    },
    {
      "cell_type": "code",
      "source": [
        "for i in range(0, 3):\n",
        "  print(\"Updated Weight\",i+1,\":\" ,B_propagation(x, w1, w2, w3)[i], \"\\n\")"
      ],
      "metadata": {
        "id": "wYwzbWAvVF6o",
        "colab": {
          "base_uri": "https://localhost:8080/"
        },
        "outputId": "8822c0d9-6547-48df-af04-110657096d2d"
      },
      "execution_count": null,
      "outputs": [
        {
          "output_type": "stream",
          "name": "stdout",
          "text": [
            "Updated Weight 1 : [-1.23995798  0.76004202] \n",
            "\n",
            "Updated Weight 2 : [[0.91713034 1.83426069]\n",
            " [1.83426069 0.91713034]] \n",
            "\n",
            "Updated Weight 3 : [[ 0.96685425 -1.0662915 ]\n",
            " [-0.9337085   1.03314575]] \n",
            "\n"
          ]
        }
      ]
    },
    {
      "cell_type": "markdown",
      "source": [
        "This script is just for displaying the updated weights."
      ],
      "metadata": {
        "id": "hsU-Y0XqQ7Ri"
      }
    }
  ]
}