{
  "nbformat": 4,
  "nbformat_minor": 0,
  "metadata": {
    "colab": {
      "name": "58026_PrExam_Henerawr.ipynb",
      "provenance": [],
      "collapsed_sections": [],
      "authorship_tag": "ABX9TyMfy5taKVDhV4qSqeaNODjk",
      "include_colab_link": true
    },
    "kernelspec": {
      "name": "python3",
      "display_name": "Python 3"
    },
    "language_info": {
      "name": "python"
    }
  },
  "cells": [
    {
      "cell_type": "markdown",
      "metadata": {
        "id": "view-in-github",
        "colab_type": "text"
      },
      "source": [
        "<a href=\"https://colab.research.google.com/github/Gonzales-James/DL/blob/main/Prelim_Probset_Proof/58026_PrExam_Henerawr.ipynb\" target=\"_parent\"><img src=\"https://colab.research.google.com/assets/colab-badge.svg\" alt=\"Open In Colab\"/></a>"
      ]
    },
    {
      "cell_type": "code",
      "source": [
        "import numpy as np"
      ],
      "metadata": {
        "id": "sL56_ZjHWZ1Y"
      },
      "execution_count": 92,
      "outputs": []
    },
    {
      "cell_type": "markdown",
      "source": [
        "# **1**"
      ],
      "metadata": {
        "id": "IwEgM20zU8a2"
      }
    },
    {
      "cell_type": "code",
      "execution_count": 93,
      "metadata": {
        "id": "R0gcJo5lUz_k"
      },
      "outputs": [],
      "source": [
        "def perceptron_algo(a, b):\n",
        "    if(a == 0) and (b == 0):\n",
        "        return 1\n",
        "    elif(a == 0) and (b == 1):\n",
        "        return 0\n",
        "    elif(a == 1) and (b == 0):\n",
        "        return 0\n",
        "    elif(a == 1) and (b == 1):\n",
        "        return 0"
      ]
    },
    {
      "cell_type": "code",
      "source": [
        "print(\"  A | B | Result\")\n",
        "print(\"  0 | 0 | A NOR B =\", perceptron_algo(0,0),\" | \")\n",
        "print(\"  0 | 1 | A NOR B =\", perceptron_algo(0,1),\" | \")\n",
        "print(\"  1 | 0 | A NOR B =\", perceptron_algo(1,0),\" | \")\n",
        "print(\"  1 | 1 | A NOR B =\", perceptron_algo(1,1),\" | \")"
      ],
      "metadata": {
        "colab": {
          "base_uri": "https://localhost:8080/"
        },
        "id": "RXKiyQo7h-YX",
        "outputId": "4d4ba939-139d-4271-a938-1432adda7ca9"
      },
      "execution_count": 94,
      "outputs": [
        {
          "output_type": "stream",
          "name": "stdout",
          "text": [
            "  A | B | Result\n",
            "  0 | 0 | A NOR B = 1  | \n",
            "  0 | 1 | A NOR B = 0  | \n",
            "  1 | 0 | A NOR B = 0  | \n",
            "  1 | 1 | A NOR B = 0  | \n"
          ]
        }
      ]
    },
    {
      "cell_type": "markdown",
      "source": [
        "# **2**"
      ],
      "metadata": {
        "id": "eiDiBDC9U_TU"
      }
    },
    {
      "cell_type": "code",
      "source": [
        "# declaration of variables\n",
        "w1 = np.array([[1, -1],\n",
        "               [-1, 1]])\n",
        "w2 = np.array([[1, 2],\n",
        "               [2, 1]])\n",
        "w3 = np.array([-1, 1])\n",
        "x = np.array([1, 0])"
      ],
      "metadata": {
        "id": "KXkbdO2g0QYx"
      },
      "execution_count": 96,
      "outputs": []
    },
    {
      "cell_type": "markdown",
      "source": [
        "# **3**"
      ],
      "metadata": {
        "id": "KoBFJPEyVBmB"
      }
    },
    {
      "cell_type": "code",
      "source": [
        "def F_propagation(X, w1, w2, w3): \n",
        "  z1 = np.dot(X, w1)\n",
        "  a1 = np.tanh(z1)\n",
        "  z2 = np.dot(a1, w2)\n",
        "  a2 = np.tanh(z2)\n",
        "  z3 = np.dot(a2, w3)\n",
        "  a3 = np.tanh(z3)\n",
        "  return a1, a2, a3"
      ],
      "metadata": {
        "id": "cBI081VWVDCu"
      },
      "execution_count": 97,
      "outputs": []
    },
    {
      "cell_type": "code",
      "source": [
        "F_propagation(x, w1, w2, w3)[2]"
      ],
      "metadata": {
        "colab": {
          "base_uri": "https://localhost:8080/"
        },
        "id": "XfM_gJMYZemL",
        "outputId": "e91b1f81-7652-4cd3-a265-db88ac4ecddd"
      },
      "execution_count": 98,
      "outputs": [
        {
          "output_type": "execute_result",
          "data": {
            "text/plain": [
              "0.8575549394724464"
            ]
          },
          "metadata": {},
          "execution_count": 98
        }
      ]
    },
    {
      "cell_type": "markdown",
      "source": [
        "# **4**"
      ],
      "metadata": {
        "id": "6MHMkRE7VDN8"
      }
    },
    {
      "cell_type": "code",
      "source": [
        "def B_propagation(x, w1, w2, w3):\n",
        "  y = F_propagation(x, w1, w2, w3)[2]\n",
        "  y1 = np.tanh(y)\n",
        "\n",
        "  d_n = 2.86\n",
        "  o_n = y1\n",
        "  error_signal = d_n - o_n\n",
        "  error_signal\n",
        "\n",
        "  lr = 0.25\n",
        "  dr = (1-y1)*(1+y1)\n",
        "  delta = error_signal * dr\n",
        "  w_1 = w3 - (lr * delta) * F_propagation(x, w1, w2, w3)[2]\n",
        "\n",
        "  dr1 = (1-y)*(1+y)\n",
        "  delta1 = (w2 * dr1) * delta\n",
        "\n",
        "  delt = delta1 - 1\n",
        "\n",
        "  w_2 = w2 - (lr * delta) * delta1\n",
        "\n",
        "  dr2 = (1-F_propagation(x, w1, w2, w3)[1])*(1+F_propagation(x, w1, w2, w3)[1])\n",
        "  delta2 = (w1 * dr2) * delta1\n",
        "\n",
        "  delt1 = delta2 - 1\n",
        "\n",
        "  w_3 = w1 - (lr * delta2) * F_propagation(x, w1, w2, w3)[0]\n",
        "  return w_1, w_2, w_3"
      ],
      "metadata": {
        "id": "7FgX4mJC0KY5"
      },
      "execution_count": 99,
      "outputs": []
    },
    {
      "cell_type": "code",
      "source": [
        "B_propagation(x, w1, w2, w3)[2]"
      ],
      "metadata": {
        "colab": {
          "base_uri": "https://localhost:8080/"
        },
        "id": "EilpXN-AcmSH",
        "outputId": "6faa3a38-5929-44f9-ba00-91acb40d54a0"
      },
      "execution_count": 100,
      "outputs": [
        {
          "output_type": "execute_result",
          "data": {
            "text/plain": [
              "array([[ 0.96685425, -1.0662915 ],\n",
              "       [-0.9337085 ,  1.03314575]])"
            ]
          },
          "metadata": {},
          "execution_count": 100
        }
      ]
    },
    {
      "cell_type": "markdown",
      "source": [
        "# **5**"
      ],
      "metadata": {
        "id": "u8MptmkhVEzS"
      }
    },
    {
      "cell_type": "code",
      "source": [
        "for i in range(0, 3):\n",
        "  print(\"Updated Weight\",i+1,\":\" ,B_propagation(x, w1, w2, w3)[i], \"\\n\")"
      ],
      "metadata": {
        "id": "wYwzbWAvVF6o",
        "colab": {
          "base_uri": "https://localhost:8080/"
        },
        "outputId": "8822c0d9-6547-48df-af04-110657096d2d"
      },
      "execution_count": 101,
      "outputs": [
        {
          "output_type": "stream",
          "name": "stdout",
          "text": [
            "Updated Weight 1 : [-1.23995798  0.76004202] \n",
            "\n",
            "Updated Weight 2 : [[0.91713034 1.83426069]\n",
            " [1.83426069 0.91713034]] \n",
            "\n",
            "Updated Weight 3 : [[ 0.96685425 -1.0662915 ]\n",
            " [-0.9337085   1.03314575]] \n",
            "\n"
          ]
        }
      ]
    }
  ]
}